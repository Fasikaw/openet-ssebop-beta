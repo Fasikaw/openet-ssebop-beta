{
 "cells": [
  {
   "cell_type": "markdown",
   "metadata": {},
   "source": [
    "# OpenET SSEBop\n",
    "## Image Class Property/Method Example\n",
    "This example shows how to instantiate the model Image class for a single Landsat image using the \".from_landsat_c1_toa()\" helper method.  This example also shows how to get the model variables."
   ]
  },
  {
   "cell_type": "code",
   "execution_count": null,
   "metadata": {},
   "outputs": [],
   "source": [
    "import pprint\n",
    "\n",
    "import ee\n",
    "\n",
    "from IPython.display import Image\n",
    "import openet.ssebop as model\n",
    "\n",
    "ee.Initialize()"
   ]
  },
  {
   "cell_type": "code",
   "execution_count": null,
   "metadata": {},
   "outputs": [],
   "source": [
    "ndvi_palette = ['#EFE7E1', '#003300']\n",
    "et_palette = [\n",
    "    'DEC29B', 'E6CDA1', 'EDD9A6', 'F5E4A9', 'FFF4AD', 'C3E683', '6BCC5C', \n",
    "    '3BB369', '20998F', '1C8691', '16678A', '114982', '0B2C7A']"
   ]
  },
  {
   "cell_type": "markdown",
   "metadata": {},
   "source": [
    "### Landsat 8 Collection 1 TOA Image"
   ]
  },
  {
   "cell_type": "code",
   "execution_count": null,
   "metadata": {},
   "outputs": [],
   "source": [
    "landsat_img = ee.Image('LANDSAT/LC08/C01/T1_RT_TOA/LC08_044033_20170716')\n",
    "# landsat_img = ee.Image('LANDSAT/LC08/C01/T1_RT_TOA/LC08_044033_20170801')\n",
    "Image(url=landsat_img.select([3, 2, 1]).getThumbURL({'min': 0.0, 'max': 0.3}), \n",
    "      embed=True, format='png')"
   ]
  },
  {
   "cell_type": "code",
   "execution_count": null,
   "metadata": {},
   "outputs": [],
   "source": [
    "print(landsat_img.get('system:time_start').getInfo())"
   ]
  },
  {
   "cell_type": "code",
   "execution_count": null,
   "metadata": {},
   "outputs": [],
   "source": [
    "landsat_cs = 30\n",
    "landsat_crs = landsat_img.select('B3').projection().getInfo()['crs']\n",
    "landsat_region = landsat_img.geometry().bounds(1, 'EPSG:4326').coordinates().getInfo()\n",
    "landsat_dt = ee.Date(landsat_img.get('system:time_start'))"
   ]
  },
  {
   "cell_type": "code",
   "execution_count": null,
   "metadata": {},
   "outputs": [],
   "source": [
    "# Build the SSEBop object from the Landsat image\n",
    "model_obj = model.Image.from_landsat_c1_toa(\n",
    "    landsat_img, etr_source='projects/climate-engine/cimis/daily', etr_band='ETr_ASCE')\n",
    "#     etr_source='IDAHO_EPSCOR/GRIDMET', etr_band='etr', etr_factor=0.85)"
   ]
  },
  {
   "cell_type": "markdown",
   "metadata": {},
   "source": [
    "### NDVI"
   ]
  },
  {
   "cell_type": "code",
   "execution_count": null,
   "metadata": {},
   "outputs": [],
   "source": [
    "Image(url=model_obj.ndvi.getThumbURL({'min': -0.1, 'max': 0.9, 'palette': ndvi_palette}),\n",
    "      embed=True, format='png')"
   ]
  },
  {
   "cell_type": "markdown",
   "metadata": {},
   "source": [
    "### ET fraction"
   ]
  },
  {
   "cell_type": "code",
   "execution_count": null,
   "metadata": {},
   "outputs": [],
   "source": [
    "Image(url=model_obj.etf.getThumbURL({'min': 0.0, 'max': 1.2, 'palette': et_palette}),\n",
    "      embed=True, format='png')"
   ]
  },
  {
   "cell_type": "markdown",
   "metadata": {},
   "source": [
    "### Reference ET (from CIMIS)"
   ]
  },
  {
   "cell_type": "code",
   "execution_count": null,
   "metadata": {},
   "outputs": [],
   "source": [
    "# Clip and project to the Landsat image footprint and coordinate system\n",
    "Image(url=model_obj.etr.getThumbURL({'min': 0.0, 'max': 12, 'palette': et_palette, 'region': landsat_region}),\n",
    "      embed=True, format='png')\n",
    "\n",
    "# Reproject is needed if ETr isn't \"applied\" to the input image in the model code\n",
    "#         .reproject(crs=landsat_crs, scale=landsat_cs)\\\n"
   ]
  },
  {
   "cell_type": "markdown",
   "metadata": {},
   "source": [
    "### ET"
   ]
  },
  {
   "cell_type": "code",
   "execution_count": null,
   "metadata": {},
   "outputs": [],
   "source": [
    "Image(url=model_obj.et.getThumbURL({'min': 0.0, 'max': 15, 'palette': et_palette}),\n",
    "      embed=True, format='png')"
   ]
  },
  {
   "cell_type": "markdown",
   "metadata": {},
   "source": [
    "### \"Calculate\" Method\n",
    "\n",
    "Return a multiband image of the model variables"
   ]
  },
  {
   "cell_type": "code",
   "execution_count": null,
   "metadata": {},
   "outputs": [],
   "source": [
    "Image(url=model_obj.calculate(['et', 'etr', 'etf']).select(['et'])\\\n",
    "          .getThumbURL({'min': 0.0, 'max': 12, 'palette': et_palette}),\n",
    "      embed=True, format='png')"
   ]
  },
  {
   "cell_type": "code",
   "execution_count": null,
   "metadata": {},
   "outputs": [],
   "source": []
  }
 ],
 "metadata": {
  "kernelspec": {
   "display_name": "Python 3",
   "language": "python",
   "name": "python3"
  },
  "language_info": {
   "codemirror_mode": {
    "name": "ipython",
    "version": 3
   },
   "file_extension": ".py",
   "mimetype": "text/x-python",
   "name": "python",
   "nbconvert_exporter": "python",
   "pygments_lexer": "ipython3",
   "version": "3.6.8"
  }
 },
 "nbformat": 4,
 "nbformat_minor": 2
}
