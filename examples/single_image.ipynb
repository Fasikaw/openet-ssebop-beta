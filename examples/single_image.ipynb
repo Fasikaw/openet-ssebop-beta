{
 "cells": [
  {
   "cell_type": "markdown",
   "metadata": {},
   "source": [
    "# OpenET SSEBop\n",
    "## Single Landsat Collection 1 TOA Image Example"
   ]
  },
  {
   "cell_type": "code",
   "execution_count": 1,
   "metadata": {},
   "outputs": [],
   "source": [
    "import pprint\n",
    "\n",
    "import ee\n",
    "from IPython.display import Image\n",
    "\n",
    "import openet.ssebop\n",
    "\n",
    "ee.Initialize()"
   ]
  },
  {
   "cell_type": "code",
   "execution_count": 3,
   "metadata": {},
   "outputs": [],
   "source": [
    "ndvi_palette = ['#EFE7E1', '#003300']\n",
    "et_palette = [\n",
    "  'DEC29B', 'E6CDA1', 'EDD9A6', 'F5E4A9', 'FFF4AD', 'C3E683', '6BCC5C', \n",
    "  '3BB369', '20998F', '1C8691', '16678A', '114982', '0B2C7A']"
   ]
  },
  {
   "cell_type": "markdown",
   "metadata": {},
   "source": [
    "### Landsat 8 Collection 1 TOA Image"
   ]
  },
  {
   "cell_type": "code",
   "execution_count": 4,
   "metadata": {},
   "outputs": [
    {
     "data": {
      "text/html": [
       "<img src=\"https://earthengine.googleapis.com/api/thumb?thumbid=4266f4d7669425cf2607f844c5cebd9c&token=2ba1baf3cc1d16a4e9207ea16f9e8374\"/>"
      ],
      "text/plain": [
       "<IPython.core.display.Image object>"
      ]
     },
     "execution_count": 4,
     "metadata": {},
     "output_type": "execute_result"
    }
   ],
   "source": [
    "landsat_img = ee.Image('LANDSAT/LC08/C01/T1_RT_TOA/LC08_044033_20170716')\n",
    "# landsat_img = ee.Image('LANDSAT/LC08/C01/T1_RT_TOA/LC08_044033_20170801')\n",
    "Image(url=landsat_img.select([3, 2, 1]).getThumbURL({'min': 0.0, 'max': 0.3}))"
   ]
  },
  {
   "cell_type": "code",
   "execution_count": 5,
   "metadata": {},
   "outputs": [],
   "source": [
    "landsat_cs = 30\n",
    "landsat_crs = landsat_img.select('B3').projection().getInfo()['crs']\n",
    "landsat_region = landsat_img.geometry().bounds(1, 'EPSG:4326').coordinates().getInfo()\n",
    "landsat_dt = ee.Date(landsat_img.get('system:time_start'))"
   ]
  },
  {
   "cell_type": "code",
   "execution_count": 6,
   "metadata": {},
   "outputs": [],
   "source": [
    "# Build the SSEBop object\n",
    "ssebop_obj = openet.ssebop.Image.from_landsat_c1_toa(landsat_img)"
   ]
  },
  {
   "cell_type": "markdown",
   "metadata": {},
   "source": [
    "### NDVI"
   ]
  },
  {
   "cell_type": "code",
   "execution_count": 7,
   "metadata": {},
   "outputs": [
    {
     "data": {
      "text/html": [
       "<img src=\"https://earthengine.googleapis.com/api/thumb?thumbid=fcc7769a8e91461f140913ace672b6c1&token=794c1d841a11998258d83d4d873fc8c8\"/>"
      ],
      "text/plain": [
       "<IPython.core.display.Image object>"
      ]
     },
     "execution_count": 7,
     "metadata": {},
     "output_type": "execute_result"
    }
   ],
   "source": [
    "Image(url=ssebop_obj.ndvi.getThumbURL({'min': -0.1, 'max': 0.9, 'palette': ','.join(ndvi_palette)}))"
   ]
  },
  {
   "cell_type": "markdown",
   "metadata": {},
   "source": [
    "### ET fraction"
   ]
  },
  {
   "cell_type": "code",
   "execution_count": 8,
   "metadata": {},
   "outputs": [
    {
     "data": {
      "text/html": [
       "<img src=\"https://earthengine.googleapis.com/api/thumb?thumbid=e804f767faf4f32b3353451d7ebb4ea9&token=c7081170b33cddf361cf81dabddbb43d\"/>"
      ],
      "text/plain": [
       "<IPython.core.display.Image object>"
      ]
     },
     "execution_count": 8,
     "metadata": {},
     "output_type": "execute_result"
    }
   ],
   "source": [
    "Image(url=ssebop_obj.etf.getThumbURL({'min': 0.0, 'max': 1.2, 'palette': ','.join(et_palette)}))"
   ]
  },
  {
   "cell_type": "markdown",
   "metadata": {},
   "source": [
    "### GRIDMET Daily Reference ET"
   ]
  },
  {
   "cell_type": "code",
   "execution_count": 9,
   "metadata": {},
   "outputs": [
    {
     "data": {
      "text/html": [
       "<img src=\"https://earthengine.googleapis.com/api/thumb?thumbid=02ae26a90d6b4cf491b27aac2cdb8b67&token=98f357b6c325754697efc3f8fdaf9cab\"/>"
      ],
      "text/plain": [
       "<IPython.core.display.Image object>"
      ]
     },
     "execution_count": 9,
     "metadata": {},
     "output_type": "execute_result"
    }
   ],
   "source": [
    "etr_img = ee.Image(ee.ImageCollection('IDAHO_EPSCOR/GRIDMET').select(['etr'])\\\n",
    "    .filterDate(landsat_dt, landsat_dt.advance(1, 'day'))\\\n",
    "    .first())\n",
    "\n",
    "# Clip and project to the Landsat image footprint and coordinate system\n",
    "Image(url=etr_img\\\n",
    "          .reproject(crs=landsat_crs, scale=landsat_cs)\\\n",
    "          .getThumbURL({'min': 0.0, 'max': 15, 'palette': ','.join(et_palette), \n",
    "                        'region': landsat_region}))"
   ]
  },
  {
   "cell_type": "markdown",
   "metadata": {},
   "source": [
    "### Daily ET\n",
    "\n",
    "ET = ETf * ETr"
   ]
  },
  {
   "cell_type": "code",
   "execution_count": 10,
   "metadata": {},
   "outputs": [
    {
     "data": {
      "text/html": [
       "<img src=\"https://earthengine.googleapis.com/api/thumb?thumbid=4c2972a754592d11fe6b60c650e6568a&token=fd353fb982d6e18376dd3d07c1a745f1\"/>"
      ],
      "text/plain": [
       "<IPython.core.display.Image object>"
      ]
     },
     "execution_count": 10,
     "metadata": {},
     "output_type": "execute_result"
    }
   ],
   "source": [
    "et_img = ssebop_obj.etf.multiply(etr_img)\n",
    "Image(url=et_img.getThumbURL({'min': 0.0, 'max': 15, 'palette': ','.join(et_palette)}))"
   ]
  },
  {
   "cell_type": "markdown",
   "metadata": {},
   "source": [
    "### SSEBop Image Metadata"
   ]
  },
  {
   "cell_type": "code",
   "execution_count": 11,
   "metadata": {},
   "outputs": [
    {
     "name": "stdout",
     "output_type": "stream",
     "text": [
      "{'TCORR': 0.992556758029887,\n",
      " 'TCORR_INDEX': 0,\n",
      " 'system:index': 'LC08_044033_20170716',\n",
      " 'system:time_start': 1500230731090}\n"
     ]
    }
   ],
   "source": [
    "pprint.pprint(ssebop_obj.etf.getInfo()['properties'])"
   ]
  },
  {
   "cell_type": "code",
   "execution_count": null,
   "metadata": {},
   "outputs": [],
   "source": []
  }
 ],
 "metadata": {
  "kernelspec": {
   "display_name": "Python 3",
   "language": "python",
   "name": "python3"
  },
  "language_info": {
   "codemirror_mode": {
    "name": "ipython",
    "version": 3
   },
   "file_extension": ".py",
   "mimetype": "text/x-python",
   "name": "python",
   "nbconvert_exporter": "python",
   "pygments_lexer": "ipython3",
   "version": "3.6.6"
  }
 },
 "nbformat": 4,
 "nbformat_minor": 2
}
