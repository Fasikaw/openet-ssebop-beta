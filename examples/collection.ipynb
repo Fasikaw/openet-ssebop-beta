{
 "cells": [
  {
   "cell_type": "markdown",
   "metadata": {},
   "source": [
    "# OpenET SSEBop - Collection Example\n",
    "\n",
    "Compute a fraction of reference ET (ETf) image collection from a Landsat 8 image collection by mapping the SSEBop function."
   ]
  },
  {
   "cell_type": "code",
   "execution_count": 1,
   "metadata": {},
   "outputs": [],
   "source": [
    "import pprint\n",
    "import pprint\n",
    "\n",
    "import ee\n",
    "from IPython.display import Image\n",
    "\n",
    "import openet.ssebop as ssebop\n",
    "\n",
    "ee.Initialize()"
   ]
  },
  {
   "cell_type": "markdown",
   "metadata": {},
   "source": [
    "### Input parameters"
   ]
  },
  {
   "cell_type": "code",
   "execution_count": 2,
   "metadata": {},
   "outputs": [],
   "source": [
    "# Date range you want to aggregate ET over\n",
    "start_date = '2017-06-01'\n",
    "end_date = '2017-08-31'\n",
    "\n",
    "# Only keep images with an average cloud cover less than\n",
    "cloud_cover = 70\n",
    "\n",
    "# Use a single point for the filterBounds call in order to only include path 44 / row 33 images\n",
    "filter_area = ee.Geometry.Point(-121.6, 38.9)\n",
    "study_area = ee.Geometry.Rectangle(-122.50, 38.50, -121.00, 39.50)\n",
    "\n",
    "study_region = study_area.bounds(1, 'EPSG:4326').coordinates().getInfo()\n",
    "study_crs = 'EPSG:32610'\n",
    "\n",
    "ndvi_palette = ['#EFE7E1', '#003300']\n",
    "et_palette = [\n",
    "  'DEC29B', 'E6CDA1', 'EDD9A6', 'F5E4A9', 'FFF4AD', 'C3E683', '6BCC5C', \n",
    "  '3BB369', '20998F', '1C8691', '16678A', '114982', '0B2C7A']"
   ]
  },
  {
   "cell_type": "markdown",
   "metadata": {},
   "source": [
    "### Landsat 8 Collection 1 TOA Image Collection"
   ]
  },
  {
   "cell_type": "code",
   "execution_count": 3,
   "metadata": {},
   "outputs": [
    {
     "name": "stdout",
     "output_type": "stream",
     "text": [
      "['LC08_044033_20170614',\n",
      " 'LC08_044033_20170630',\n",
      " 'LC08_044033_20170716',\n",
      " 'LC08_044033_20170801',\n",
      " 'LC08_044033_20170817']\n"
     ]
    }
   ],
   "source": [
    "# Build the input Landsat TOA collection\n",
    "landsat_coll = ee.ImageCollection('LANDSAT/LC08/C01/T1_RT_TOA') \\\n",
    "    .filterDate(start_date, end_date) \\\n",
    "    .filterBounds(filter_area) \\\n",
    "    .filterMetadata('CLOUD_COVER_LAND', 'less_than', cloud_cover) \\\n",
    "    .filterMetadata('DATA_TYPE', 'equals', 'L1TP')\n",
    "\n",
    "pprint.pprint(list(landsat_coll.aggregate_histogram('system:index').getInfo().keys()))"
   ]
  },
  {
   "cell_type": "markdown",
   "metadata": {},
   "source": [
    "### ET Fraction Collection"
   ]
  },
  {
   "cell_type": "code",
   "execution_count": 4,
   "metadata": {},
   "outputs": [],
   "source": [
    "# Compute ETf for each Landsat scene\n",
    "def compute_et_fraction(image):\n",
    "    return ee.Image(ssebop.Image.from_landsat_c1_toa(toa_image=ee.Image(image)).etf)\n",
    "\n",
    "et_fraction_coll = ee.ImageCollection(landsat_coll.map(compute_et_fraction))"
   ]
  },
  {
   "cell_type": "code",
   "execution_count": 5,
   "metadata": {},
   "outputs": [
    {
     "data": {
      "text/html": [
       "<img src=\"https://earthengine.googleapis.com/api/thumb?thumbid=02d9068733f39e857d36dc26cd37246f&token=aba00a2b389abe26be898aa7caf8948a\"/>"
      ],
      "text/plain": [
       "<IPython.core.display.Image object>"
      ]
     },
     "execution_count": 5,
     "metadata": {},
     "output_type": "execute_result"
    }
   ],
   "source": [
    "Image(url=ee.Image(et_fraction_coll.mean()) \\\n",
    "    .reproject(crs=study_crs, scale=100) \\\n",
    "    .getThumbURL({'region': study_region, 'min': 0.0, 'max': 1.2, 'palette': ','.join(et_palette)}))"
   ]
  },
  {
   "cell_type": "code",
   "execution_count": 6,
   "metadata": {},
   "outputs": [
    {
     "name": "stdout",
     "output_type": "stream",
     "text": [
      "[{'bands': [{'crs': 'EPSG:32610',\n",
      "             'crs_transform': [30.0, 0.0, 500085.0, 0.0, -30.0, 4423215.0],\n",
      "             'data_type': {'max': 1.05,\n",
      "                           'min': 0.0,\n",
      "                           'precision': 'double',\n",
      "                           'type': 'PixelType'},\n",
      "             'dimensions': [7661, 7791],\n",
      "             'id': 'etf'}],\n",
      "  'properties': {'TCORR': 0.985231799322338,\n",
      "                 'TCORR_INDEX': 0,\n",
      "                 'system:index': 'LC08_044033_20170614',\n",
      "                 'system:time_start': 1497465922990},\n",
      "  'type': 'Image'},\n",
      " {'bands': [{'crs': 'EPSG:32610',\n",
      "             'crs_transform': [30.0, 0.0, 500685.0, 0.0, -30.0, 4423215.0],\n",
      "             'data_type': {'max': 1.05,\n",
      "                           'min': 0.0,\n",
      "                           'precision': 'double',\n",
      "                           'type': 'PixelType'},\n",
      "             'dimensions': [7661, 7791],\n",
      "             'id': 'etf'}],\n",
      "  'properties': {'TCORR': 0.987428371929903,\n",
      "                 'TCORR_INDEX': 0,\n",
      "                 'system:index': 'LC08_044033_20170630',\n",
      "                 'system:time_start': 1498848327450},\n",
      "  'type': 'Image'},\n",
      " {'bands': [{'crs': 'EPSG:32610',\n",
      "             'crs_transform': [30.0, 0.0, 501585.0, 0.0, -30.0, 4423515.0],\n",
      "             'data_type': {'max': 1.05,\n",
      "                           'min': 0.0,\n",
      "                           'precision': 'double',\n",
      "                           'type': 'PixelType'},\n",
      "             'dimensions': [7661, 7791],\n",
      "             'id': 'etf'}],\n",
      "  'properties': {'TCORR': 0.992556758029887,\n",
      "                 'TCORR_INDEX': 0,\n",
      "                 'system:index': 'LC08_044033_20170716',\n",
      "                 'system:time_start': 1500230731090},\n",
      "  'type': 'Image'},\n",
      " {'bands': [{'crs': 'EPSG:32610',\n",
      "             'crs_transform': [30.0, 0.0, 500685.0, 0.0, -30.0, 4423215.0],\n",
      "             'data_type': {'max': 1.05,\n",
      "                           'min': 0.0,\n",
      "                           'precision': 'double',\n",
      "                           'type': 'PixelType'},\n",
      "             'dimensions': [7661, 7791],\n",
      "             'id': 'etf'}],\n",
      "  'properties': {'TCORR': 0.983522719018649,\n",
      "                 'TCORR_INDEX': 0,\n",
      "                 'system:index': 'LC08_044033_20170801',\n",
      "                 'system:time_start': 1501613138910},\n",
      "  'type': 'Image'},\n",
      " {'bands': [{'crs': 'EPSG:32610',\n",
      "             'crs_transform': [30.0, 0.0, 500385.0, 0.0, -30.0, 4423215.0],\n",
      "             'data_type': {'max': 1.05,\n",
      "                           'min': 0.0,\n",
      "                           'precision': 'double',\n",
      "                           'type': 'PixelType'},\n",
      "             'dimensions': [7661, 7791],\n",
      "             'id': 'etf'}],\n",
      "  'properties': {'TCORR': 0.980348926545589,\n",
      "                 'TCORR_INDEX': 0,\n",
      "                 'system:index': 'LC08_044033_20170817',\n",
      "                 'system:time_start': 1502995544410},\n",
      "  'type': 'Image'}]\n"
     ]
    }
   ],
   "source": [
    "pprint.pprint(et_fraction_coll.getInfo()['features'])"
   ]
  },
  {
   "cell_type": "code",
   "execution_count": null,
   "metadata": {},
   "outputs": [],
   "source": []
  },
  {
   "cell_type": "code",
   "execution_count": null,
   "metadata": {},
   "outputs": [],
   "source": []
  }
 ],
 "metadata": {
  "kernelspec": {
   "display_name": "Python 3",
   "language": "python",
   "name": "python3"
  },
  "language_info": {
   "codemirror_mode": {
    "name": "ipython",
    "version": 3
   },
   "file_extension": ".py",
   "mimetype": "text/x-python",
   "name": "python",
   "nbconvert_exporter": "python",
   "pygments_lexer": "ipython3",
   "version": "3.6.6"
  }
 },
 "nbformat": 4,
 "nbformat_minor": 2
}
