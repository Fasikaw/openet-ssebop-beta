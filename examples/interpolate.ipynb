{
 "cells": [
  {
   "cell_type": "markdown",
   "metadata": {},
   "source": [
    "# OpenET SSEBop - Interpolated Image Example"
   ]
  },
  {
   "cell_type": "code",
   "execution_count": 1,
   "metadata": {},
   "outputs": [],
   "source": [
    "import datetime\n",
    "\n",
    "import ee\n",
    "from IPython.display import Image\n",
    "\n",
    "import openet.ssebop as ssebop\n",
    "import openet.interp as interp\n",
    "\n",
    "ee.Initialize()"
   ]
  },
  {
   "cell_type": "code",
   "execution_count": 2,
   "metadata": {},
   "outputs": [],
   "source": [
    "ndvi_palette = ['#EFE7E1', '#003300']\n",
    "et_palette = [\n",
    "  'DEC29B', 'E6CDA1', 'EDD9A6', 'F5E4A9', 'FFF4AD', 'C3E683', '6BCC5C', \n",
    "  '3BB369', '20998F', '1C8691', '16678A', '114982', '0B2C7A']"
   ]
  },
  {
   "cell_type": "markdown",
   "metadata": {},
   "source": [
    "### Input parameters"
   ]
  },
  {
   "cell_type": "code",
   "execution_count": 3,
   "metadata": {},
   "outputs": [],
   "source": [
    "# Date range you want to aggregate ET over\n",
    "start_date = '2017-07-01'\n",
    "end_date = '2017-07-31'\n",
    "\n",
    "# Only keep images with an average cloud cover less than\n",
    "cloud_cover = 70\n",
    "\n",
    "# Number of extra days (at start and end) to include in interpolation\n",
    "interp_days = 32\n",
    "# Interpolation method - currently only LINEAR is supported\n",
    "interp_type = 'LINEAR'\n",
    "\n",
    "# Use a single point for the filterBounds call in order to only include path 44 / row 33 images\n",
    "filter_area = ee.Geometry.Point(-121.6, 38.9)\n",
    "study_area = ee.Geometry.Rectangle(-122.00, 38.50, -121.00, 39.50)"
   ]
  },
  {
   "cell_type": "markdown",
   "metadata": {},
   "source": [
    "### Computed parameters"
   ]
  },
  {
   "cell_type": "code",
   "execution_count": 4,
   "metadata": {},
   "outputs": [],
   "source": [
    "# Hard code the studay area and CRS\n",
    "study_region = study_area.bounds(1, 'EPSG:4326').coordinates().getInfo()\n",
    "study_crs = 'EPSG:32610'\n",
    "\n",
    "# # Get the study area and CRS from the Landsat collection\n",
    "# study_transform = landsat_img.select(['B2']).projection().getInfo()['transform']\n",
    "# study_crs = landsat_img.select(['B2']).projection().crs().getInfo()"
   ]
  },
  {
   "cell_type": "code",
   "execution_count": 5,
   "metadata": {},
   "outputs": [
    {
     "name": "stdout",
     "output_type": "stream",
     "text": [
      "2017-05-30\n",
      "2017-09-01\n"
     ]
    }
   ],
   "source": [
    "# Add extra Landsat images at start and end to interpolate between\n",
    "interp_start_date = (\n",
    "    datetime.datetime.strptime(start_date, '%Y-%m-%d') - \n",
    "    datetime.timedelta(days=interp_days)).strftime('%Y-%m-%d')\n",
    "interp_end_date = (\n",
    "    datetime.datetime.strptime(end_date, '%Y-%m-%d') + \n",
    "    datetime.timedelta(days=interp_days)).strftime('%Y-%m-%d')\n",
    "print(interp_start_date)\n",
    "print(interp_end_date)"
   ]
  },
  {
   "cell_type": "markdown",
   "metadata": {},
   "source": [
    "### Build the Landsat TOA collection"
   ]
  },
  {
   "cell_type": "code",
   "execution_count": 6,
   "metadata": {},
   "outputs": [
    {
     "name": "stdout",
     "output_type": "stream",
     "text": [
      "{'LC08_044033_20170614': 1, 'LC08_044033_20170630': 1, 'LC08_044033_20170716': 1, 'LC08_044033_20170801': 1, 'LC08_044033_20170817': 1}\n"
     ]
    }
   ],
   "source": [
    "# Build the input Landsat TOA collection\n",
    "landsat_coll = ee.ImageCollection('LANDSAT/LC08/C01/T1_RT_TOA') \\\n",
    "    .filterDate(interp_start_date, interp_end_date) \\\n",
    "    .filterBounds(filter_area) \\\n",
    "    .filterMetadata('CLOUD_COVER_LAND', 'less_than', cloud_cover) \\\n",
    "    .filterMetadata('DATA_TYPE', 'equals', 'L1TP')\n",
    "\n",
    "# # Code for setting up a merged Landsat input collection\n",
    "# landsat_coll = ee.ImageCollection([])\n",
    "# landsat_coll = ee.ImageCollection(landsat_coll.merge(\n",
    "#     ee.ImageCollection('LANDSAT/LC08/C01/T1_RT_TOA') \\\n",
    "#         .filterDate(interp_start_date, interp_end_date) \\\n",
    "#         .filterBounds(filter_area) \\\n",
    "#         .filterMetadata('CLOUD_COVER_LAND', 'less_than', cloud_cover) \\\n",
    "#         .filterMetadata('DATA_TYPE', 'equals', 'L1TP')))\n",
    "# landsat_coll = ee.ImageCollection(landsat_coll.merge(\n",
    "#     ee.ImageCollection('LANDSAT/LE07/C01/T1_RT_TOA') \\\n",
    "#         .filterDate(interp_start_date, interp_end_date) \\\n",
    "#         .filterBounds(filter_area) \\\n",
    "#         .filterMetadata('CLOUD_COVER_LAND', 'less_than', cloud_cover) \\\n",
    "#         .filterMetadata('DATA_TYPE', 'equals', 'L1TP')))\n",
    "# landsat_coll = ee.ImageCollection(landsat_coll.merge(\n",
    "#     ee.ImageCollection('LANDSAT/LT05/C01/T1_TOA') \\\n",
    "#         .filterDate(interp_start_date, interp_end_date) \\\n",
    "#         .filterBounds(filter_area) \\\n",
    "#         .filterMetadata('CLOUD_COVER_LAND', 'less_than', cloud_cover) \\\n",
    "#         .filterMetadata('DATA_TYPE', 'equals', 'L1TP')))\n",
    "\n",
    "print(landsat_coll.aggregate_histogram('system:index').getInfo())"
   ]
  },
  {
   "cell_type": "markdown",
   "metadata": {},
   "source": [
    "### Apply SSEBop Model"
   ]
  },
  {
   "cell_type": "code",
   "execution_count": 7,
   "metadata": {},
   "outputs": [],
   "source": [
    "# Compute ETf for each Landsat scene\n",
    "def compute_et_fraction(image):\n",
    "    return ee.Image(\n",
    "        ssebop.Image.from_landsat_c1_toa(toa_image=ee.Image(image)).etf)\n",
    "scene_et_fraction_coll = ee.ImageCollection(landsat_coll.map(compute_et_fraction))\n",
    "\n",
    "# Daily reference ET collection\n",
    "daily_et_reference_coll = ee.ImageCollection('IDAHO_EPSCOR/GRIDMET') \\\n",
    "    .filterDate(start_date, end_date) \\\n",
    "    .select(['etr'])\n",
    "\n",
    "# Compute composite/mosaic images for each image date\n",
    "# This will combine Landsat images from the same path into a single image\n",
    "daily_et_fraction_coll = ee.ImageCollection(interp.aggregate_daily(\n",
    "    image_coll=scene_et_fraction_coll,\n",
    "    start_date=interp_start_date,\n",
    "    end_date=interp_end_date))\n",
    "\n",
    "# Interpolate daily ETf, multiply by daily ETr, and sum to ET\n",
    "daily_et_actual_coll = ee.ImageCollection(interp.daily_et(\n",
    "    et_reference_coll=daily_et_reference_coll,\n",
    "    et_fraction_coll=daily_et_fraction_coll,\n",
    "    interp_days=interp_days,\n",
    "    interp_type=interp_type))"
   ]
  },
  {
   "cell_type": "markdown",
   "metadata": {},
   "source": [
    "### Compute total ET over the time period"
   ]
  },
  {
   "cell_type": "code",
   "execution_count": 8,
   "metadata": {},
   "outputs": [
    {
     "data": {
      "text/html": [
       "<img src=\"https://earthengine.googleapis.com/api/thumb?thumbid=834de3fea85e14050b928959ec8be4f4&token=ea3f7a0a284e295335d2376eab8a55d0\"/>"
      ],
      "text/plain": [
       "<IPython.core.display.Image object>"
      ]
     },
     "execution_count": 8,
     "metadata": {},
     "output_type": "execute_result"
    }
   ],
   "source": [
    "Image(url=ee.Image(daily_et_actual_coll.sum()) \\\n",
    "    .reproject(crs=study_crs, scale=30) \\\n",
    "    .getThumbURL({'min': 0.0, 'max': 400, 'region': study_region, 'palette': ','.join(et_palette)}))"
   ]
  },
  {
   "cell_type": "markdown",
   "metadata": {},
   "source": [
    "### Compute total ETr over the time period"
   ]
  },
  {
   "cell_type": "code",
   "execution_count": 9,
   "metadata": {},
   "outputs": [
    {
     "data": {
      "text/html": [
       "<img src=\"https://earthengine.googleapis.com/api/thumb?thumbid=a261359a271878920a128a0d23a5975a&token=773202f9cc89f92149733b7e0a861d67\"/>"
      ],
      "text/plain": [
       "<IPython.core.display.Image object>"
      ]
     },
     "execution_count": 9,
     "metadata": {},
     "output_type": "execute_result"
    }
   ],
   "source": [
    "Image(url=ee.Image(daily_et_reference_coll.sum()) \\\n",
    "    .reproject(crs=study_crs, scale=30) \\\n",
    "    .getThumbURL({'min': 0, 'max': 400, 'region': study_region, 'palette': ','.join(et_palette)}))"
   ]
  },
  {
   "cell_type": "markdown",
   "metadata": {},
   "source": [
    "### Compute Mean ETrF over the time period"
   ]
  },
  {
   "cell_type": "code",
   "execution_count": 10,
   "metadata": {},
   "outputs": [
    {
     "data": {
      "text/html": [
       "<img src=\"https://earthengine.googleapis.com/api/thumb?thumbid=ff443b28a46a825c7a7cbdc1c24aeea9&token=e838e2f032380067c0372a27d602c54c\"/>"
      ],
      "text/plain": [
       "<IPython.core.display.Image object>"
      ]
     },
     "execution_count": 10,
     "metadata": {},
     "output_type": "execute_result"
    }
   ],
   "source": [
    "Image(url=ee.Image(daily_et_actual_coll.sum()).divide(ee.Image(daily_et_reference_coll.sum())) \\\n",
    "    .reproject(crs=study_crs, scale=30) \\\n",
    "    .getThumbURL({'min': 0.0, 'max': 1.2, 'region': study_region, 'palette': ','.join(et_palette)}))"
   ]
  },
  {
   "cell_type": "markdown",
   "metadata": {},
   "source": [
    "### Compute Image Count over the time period"
   ]
  },
  {
   "cell_type": "code",
   "execution_count": 11,
   "metadata": {},
   "outputs": [
    {
     "data": {
      "text/html": [
       "<img src=\"https://earthengine.googleapis.com/api/thumb?thumbid=a78467048cf4eeaaa315de79c5b7cfa5&token=fdf1218482b9ad3f941cbccdc763c510\"/>"
      ],
      "text/plain": [
       "<IPython.core.display.Image object>"
      ]
     },
     "execution_count": 11,
     "metadata": {},
     "output_type": "execute_result"
    }
   ],
   "source": [
    "# End date should be advanced 1 day\n",
    "Image(url=ee.Image(daily_et_fraction_coll.filterDate(start_date, end_date).count()) \\\n",
    "    .reproject(crs=study_crs, scale=30) \\\n",
    "    .getThumbURL({'min': 0.0, 'max': 8, 'region': study_region}))"
   ]
  },
  {
   "cell_type": "code",
   "execution_count": null,
   "metadata": {},
   "outputs": [],
   "source": []
  }
 ],
 "metadata": {
  "kernelspec": {
   "display_name": "Python 3",
   "language": "python",
   "name": "python3"
  },
  "language_info": {
   "codemirror_mode": {
    "name": "ipython",
    "version": 3
   },
   "file_extension": ".py",
   "mimetype": "text/x-python",
   "name": "python",
   "nbconvert_exporter": "python",
   "pygments_lexer": "ipython3",
   "version": "3.6.6"
  }
 },
 "nbformat": 4,
 "nbformat_minor": 2
}
