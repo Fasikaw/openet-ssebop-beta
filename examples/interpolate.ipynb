{
 "cells": [
  {
   "cell_type": "markdown",
   "metadata": {},
   "source": [
    "# OpenET SSEBop - Interpolated Image Example\n",
    "\n",
    "Compute total ET for the month of July, 2017 using all available Landsat 8 Collection 1 TOA images."
   ]
  },
  {
   "cell_type": "code",
   "execution_count": 1,
   "metadata": {},
   "outputs": [],
   "source": [
    "import datetime\n",
    "import pprint\n",
    "\n",
    "import ee\n",
    "from IPython.display import Image\n",
    "\n",
    "import openet.ssebop as ssebop\n",
    "import openet.interp as interp\n",
    "\n",
    "ee.Initialize()"
   ]
  },
  {
   "cell_type": "code",
   "execution_count": 2,
   "metadata": {},
   "outputs": [],
   "source": [
    "ndvi_palette = ['#EFE7E1', '#003300']\n",
    "et_palette = [\n",
    "  'DEC29B', 'E6CDA1', 'EDD9A6', 'F5E4A9', 'FFF4AD', 'C3E683', '6BCC5C', \n",
    "  '3BB369', '20998F', '1C8691', '16678A', '114982', '0B2C7A']"
   ]
  },
  {
   "cell_type": "markdown",
   "metadata": {},
   "source": [
    "### Input parameters"
   ]
  },
  {
   "cell_type": "code",
   "execution_count": 3,
   "metadata": {},
   "outputs": [],
   "source": [
    "# Date range you want to aggregate ET over\n",
    "start_date = '2017-07-01'\n",
    "end_date = '2017-07-31'\n",
    "\n",
    "# Only keep images with an average cloud cover less than\n",
    "cloud_cover = 70\n",
    "\n",
    "# Number of extra days (at start and end) to include in interpolation\n",
    "interp_days = 32\n",
    "# Interpolation method - currently only LINEAR is supported\n",
    "interp_type = 'LINEAR'\n",
    "\n",
    "# Use a single point for the filterBounds call in order to only include path 44 / row 33 images\n",
    "filter_area = ee.Geometry.Point(-121.6, 38.9)\n",
    "study_area = ee.Geometry.Rectangle(-122.50, 38.50, -121.00, 39.50)"
   ]
  },
  {
   "cell_type": "markdown",
   "metadata": {},
   "source": [
    "### Computed parameters"
   ]
  },
  {
   "cell_type": "code",
   "execution_count": 4,
   "metadata": {},
   "outputs": [],
   "source": [
    "# Hard code the study area and CRS\n",
    "study_region = study_area.bounds(1, 'EPSG:4326').coordinates().getInfo()\n",
    "study_crs = 'EPSG:32610'\n",
    "\n",
    "# # Get the study area and CRS from the Landsat collection\n",
    "# study_transform = landsat_img.select(['B2']).projection().getInfo()['transform']\n",
    "# study_crs = landsat_img.select(['B2']).projection().crs().getInfo()"
   ]
  },
  {
   "cell_type": "code",
   "execution_count": 5,
   "metadata": {},
   "outputs": [
    {
     "name": "stdout",
     "output_type": "stream",
     "text": [
      "2017-05-30\n",
      "2017-09-01\n"
     ]
    }
   ],
   "source": [
    "# Add extra Landsat images at start and end to interpolate between\n",
    "interp_start_date = (\n",
    "    datetime.datetime.strptime(start_date, '%Y-%m-%d') - \n",
    "    datetime.timedelta(days=interp_days)).strftime('%Y-%m-%d')\n",
    "interp_end_date = (\n",
    "    datetime.datetime.strptime(end_date, '%Y-%m-%d') + \n",
    "    datetime.timedelta(days=interp_days)).strftime('%Y-%m-%d')\n",
    "print(interp_start_date)\n",
    "print(interp_end_date)"
   ]
  },
  {
   "cell_type": "markdown",
   "metadata": {},
   "source": [
    "### Landsat 8 Collection 1 TOA Image Collection"
   ]
  },
  {
   "cell_type": "code",
   "execution_count": 6,
   "metadata": {},
   "outputs": [
    {
     "name": "stdout",
     "output_type": "stream",
     "text": [
      "['LC08_044033_20170614',\n",
      " 'LC08_044033_20170630',\n",
      " 'LC08_044033_20170716',\n",
      " 'LC08_044033_20170801',\n",
      " 'LC08_044033_20170817']\n"
     ]
    }
   ],
   "source": [
    "landsat_coll = ee.ImageCollection('LANDSAT/LC08/C01/T1_RT_TOA') \\\n",
    "    .filterDate(interp_start_date, interp_end_date) \\\n",
    "    .filterBounds(filter_area) \\\n",
    "    .filterMetadata('CLOUD_COVER_LAND', 'less_than', cloud_cover) \\\n",
    "    .filterMetadata('DATA_TYPE', 'equals', 'L1TP')\n",
    "\n",
    "pprint.pprint(list(landsat_coll.aggregate_histogram('system:index').getInfo().keys()))"
   ]
  },
  {
   "cell_type": "markdown",
   "metadata": {},
   "source": [
    "### Apply SSEBop Model"
   ]
  },
  {
   "cell_type": "code",
   "execution_count": 7,
   "metadata": {},
   "outputs": [],
   "source": [
    "# Compute ETf for each Landsat scene\n",
    "def compute_et_fraction(image):\n",
    "    return ee.Image(\n",
    "        ssebop.Image.from_landsat_c1_toa(toa_image=ee.Image(image)).etf)\n",
    "scene_et_fraction_coll = ee.ImageCollection(landsat_coll.map(compute_et_fraction))\n",
    "\n",
    "# Daily reference ET collection\n",
    "daily_et_reference_coll = ee.ImageCollection('IDAHO_EPSCOR/GRIDMET') \\\n",
    "    .filterDate(start_date, end_date) \\\n",
    "    .select(['etr'],['et_reference'])\n",
    "\n",
    "# Compute composite/mosaic images for each image date\n",
    "# This will combine Landsat images from the same path into a single image\n",
    "daily_et_fraction_coll = ee.ImageCollection(interp.aggregate_daily(\n",
    "    image_coll=scene_et_fraction_coll,\n",
    "    start_date=interp_start_date,\n",
    "    end_date=interp_end_date))\n",
    "\n",
    "# Interpolate daily ETf, multiply by daily ETr, and sum to ET\n",
    "daily_et_actual_coll = ee.ImageCollection(interp.interpolate(\n",
    "    et_reference_coll=daily_et_reference_coll,\n",
    "    et_fraction_coll=daily_et_fraction_coll,\n",
    "    interp_days=interp_days,\n",
    "    interp_type=interp_type))"
   ]
  },
  {
   "cell_type": "markdown",
   "metadata": {},
   "source": [
    "### Total ET over the time period"
   ]
  },
  {
   "cell_type": "code",
   "execution_count": 8,
   "metadata": {},
   "outputs": [
    {
     "data": {
      "text/html": [
       "<img src=\"https://earthengine.googleapis.com/api/thumb?thumbid=1491547dd5ff2012c392771131f0828a&token=2e23e7e053b3d5a0e57045a3c0dec62d\"/>"
      ],
      "text/plain": [
       "<IPython.core.display.Image object>"
      ]
     },
     "execution_count": 8,
     "metadata": {},
     "output_type": "execute_result"
    }
   ],
   "source": [
    "Image(url=ee.Image(daily_et_actual_coll.sum()) \\\n",
    "    .reproject(crs=study_crs, scale=100) \\\n",
    "    .getThumbURL({'min': 0.0, 'max': 400, 'region': study_region, 'palette': ','.join(et_palette)}))"
   ]
  },
  {
   "cell_type": "markdown",
   "metadata": {},
   "source": [
    "### Total ETr over the time period"
   ]
  },
  {
   "cell_type": "code",
   "execution_count": 9,
   "metadata": {},
   "outputs": [
    {
     "data": {
      "text/html": [
       "<img src=\"https://earthengine.googleapis.com/api/thumb?thumbid=01697fe1b84c1e51c93f2131a4b9af2f&token=40fd1ecaba7bd6a52b62a9606920f8e9\"/>"
      ],
      "text/plain": [
       "<IPython.core.display.Image object>"
      ]
     },
     "execution_count": 9,
     "metadata": {},
     "output_type": "execute_result"
    }
   ],
   "source": [
    "Image(url=ee.Image(daily_et_reference_coll.sum()) \\\n",
    "    .reproject(crs=study_crs, scale=100) \\\n",
    "    .getThumbURL({'min': 0, 'max': 400, 'region': study_region, 'palette': ','.join(et_palette)}))"
   ]
  },
  {
   "cell_type": "markdown",
   "metadata": {},
   "source": [
    "### Mean ETrF over the time period"
   ]
  },
  {
   "cell_type": "code",
   "execution_count": 10,
   "metadata": {},
   "outputs": [
    {
     "data": {
      "text/html": [
       "<img src=\"https://earthengine.googleapis.com/api/thumb?thumbid=5a6ca59d670501fabfa103ecff7773ce&token=f79700bb5898ff5fc54ff5e144357415\"/>"
      ],
      "text/plain": [
       "<IPython.core.display.Image object>"
      ]
     },
     "execution_count": 10,
     "metadata": {},
     "output_type": "execute_result"
    }
   ],
   "source": [
    "Image(url=ee.Image(daily_et_actual_coll.sum()).divide(ee.Image(daily_et_reference_coll.sum())) \\\n",
    "    .reproject(crs=study_crs, scale=100) # NOTE: Scale is typically 30m but using 100m to draw thumbnail faster \\\n",
    "    .getThumbURL({'min': 0.0, 'max': 1.2, 'region': study_region, 'palette': ','.join(et_palette)}))"
   ]
  },
  {
   "cell_type": "markdown",
   "metadata": {},
   "source": [
    "### Image Count over the time period"
   ]
  },
  {
   "cell_type": "code",
   "execution_count": 12,
   "metadata": {},
   "outputs": [
    {
     "data": {
      "text/html": [
       "<img src=\"https://earthengine.googleapis.com/api/thumb?thumbid=46c3e2b651d08349fceaa66559c813ca&token=48318e44d02c53239cf86126b38d672b\"/>"
      ],
      "text/plain": [
       "<IPython.core.display.Image object>"
      ]
     },
     "execution_count": 12,
     "metadata": {},
     "output_type": "execute_result"
    }
   ],
   "source": [
    "# End date should be advanced 1 day\n",
    "Image(url=ee.Image(daily_et_fraction_coll.filterDate(start_date, end_date).count()) \\\n",
    "    .reproject(crs=study_crs, scale=100) # NOTE: Scale is typically 30m but using 100m to draw thumbnail faster \\\n",
    "    .getThumbURL({'min': 0.0, 'max': 4, 'region': study_region}))"
   ]
  },
  {
   "cell_type": "code",
   "execution_count": null,
   "metadata": {},
   "outputs": [],
   "source": []
  }
 ],
 "metadata": {
  "kernelspec": {
   "display_name": "Python 3",
   "language": "python",
   "name": "python3"
  },
  "language_info": {
   "codemirror_mode": {
    "name": "ipython",
    "version": 3
   },
   "file_extension": ".py",
   "mimetype": "text/x-python",
   "name": "python",
   "nbconvert_exporter": "python",
   "pygments_lexer": "ipython3",
   "version": "3.6.6"
  }
 },
 "nbformat": 4,
 "nbformat_minor": 2
}
