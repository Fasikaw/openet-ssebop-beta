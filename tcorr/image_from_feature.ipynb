{
 "cells": [
  {
   "cell_type": "code",
   "execution_count": 1,
   "metadata": {},
   "outputs": [],
   "source": [
    "import calendar\n",
    "import datetime\n",
    "import logging\n",
    "import pprint\n",
    "\n",
    "import ee\n",
    "from IPython.display import Image\n",
    "\n",
    "import openet.ssebop as ssebop\n",
    "import utils\n",
    "\n",
    "ee.Initialize()\n",
    "\n",
    "logging.basicConfig(level=logging.DEBUG, format='%(message)s')"
   ]
  },
  {
   "cell_type": "markdown",
   "metadata": {},
   "source": [
    "#### Inputs"
   ]
  },
  {
   "cell_type": "code",
   "execution_count": 2,
   "metadata": {},
   "outputs": [],
   "source": [
    "start_date = '2017-07-01'\n",
    "end_date = '2017-07-31'\n",
    "overwrite_flag = False"
   ]
  },
  {
   "cell_type": "markdown",
   "metadata": {},
   "source": [
    "#### Tcorr Input Feature Collection"
   ]
  },
  {
   "cell_type": "code",
   "execution_count": 3,
   "metadata": {},
   "outputs": [],
   "source": [
    "tcorr_ftr_coll_id = 'projects/usgs-ssebop/tcorr/topowx_median_v0_scene'"
   ]
  },
  {
   "cell_type": "markdown",
   "metadata": {},
   "source": [
    "#### Tcorr Output Image Collection"
   ]
  },
  {
   "cell_type": "code",
   "execution_count": 4,
   "metadata": {},
   "outputs": [],
   "source": [
    "tcorr_img_name = 'topowx_median_v0'\n",
    "tcorr_img_coll_id = 'projects/usgs-ssebop/tcorr_image/{}'.format(tcorr_img_name)\n",
    "tcorr_img_coll = ee.ImageCollection(tcorr_img_coll_id);"
   ]
  },
  {
   "cell_type": "markdown",
   "metadata": {},
   "source": [
    "#### Study Area"
   ]
  },
  {
   "cell_type": "code",
   "execution_count": 5,
   "metadata": {},
   "outputs": [
    {
     "name": "stdout",
     "output_type": "stream",
     "text": [
      "[[-125.0, 25.0], [-65.0, 25.0], [-65.0, 53.99478518121347], [-125.0, 53.99478518121347]]\n"
     ]
    }
   ],
   "source": [
    "export_geom = ee.Geometry.Rectangle(-125, 25, -65, 50)\n",
    "# export_geom = ee.Geometry.Rectangle(-124, 35, -119, 42)\n",
    "export_crs = 'EPSG:4326'\n",
    "export_region = export_geom.bounds(1, export_crs).coordinates().getInfo()[0][:-1]\n",
    "print(export_region)"
   ]
  },
  {
   "cell_type": "markdown",
   "metadata": {},
   "source": [
    "#### Tmax Collection"
   ]
  },
  {
   "cell_type": "code",
   "execution_count": 6,
   "metadata": {},
   "outputs": [
    {
     "data": {
      "text/html": [
       "<img src=\"https://earthengine.googleapis.com/api/thumb?thumbid=53aea5f136d9656572a9bad0cf645b4c&token=b78a1ff98f755354a4cdfc1f7c7feb43\"/>"
      ],
      "text/plain": [
       "<IPython.core.display.Image object>"
      ]
     },
     "execution_count": 6,
     "metadata": {},
     "output_type": "execute_result"
    }
   ],
   "source": [
    "tmax_name = 'topowx_median_v0'\n",
    "tmax_version = 'median_v0'\n",
    "tmax_coll_id = 'projects/usgs-ssebop/tmax/{}'.format(tmax_name)\n",
    "\n",
    "tmax_coll = ee.ImageCollection(tmax_coll_id)\n",
    "tmax_img = ee.Image(tmax_coll.first()).set('TMAX_VERSION', tmax_version)\n",
    "# tmax_image = ee.Image(tmax_coll.filter(doy_filter).first())\\\n",
    "#     .set('TMAX_VERSION', tmax_version)\n",
    "\n",
    "# Hardcode properties for now (but they could be retrieved dynamically from tmax_coll)\n",
    "tmax_geo = [0.00833333333333333, 0.0, -125.00416722008521, 0.0, -0.00833333333333333, 51.19583312184854]\n",
    "# tmax_geo = [0.00833333329998709, 0.0, -125.00416722008521, 0.0, -0.00833333329998709, 51.19583312184854]\n",
    "tmax_crs = 'EPSG:4326'\n",
    "tmax_shape = [7000, 3250]\n",
    "tmax_extent = [tmax_geo[2], tmax_geo[5] + tmax_shape[1] * tmax_geo[4], \n",
    "               tmax_geo[2] + tmax_shape[0] * tmax_geo[0], tmax_geo[5]]\n",
    "# print(ee.Image(tmax_median_coll.first()).projection().getInfo()['transform'])\n",
    "# print(ee.Image(tmax_median_coll.first()).projection().getInfo()['crs'])\n",
    "# print(ee.Image(tmax_median_coll.first()).getInfo()['bands'][0]['dimensions'])\n",
    "\n",
    "Image(url=tmax_img.getThumbURL({'min': 270, 'max': 330, 'region': export_region}))\n",
    "# embed=True, format='png'"
   ]
  },
  {
   "cell_type": "markdown",
   "metadata": {},
   "source": [
    "#### Export Extent, Shape, Geo"
   ]
  },
  {
   "cell_type": "code",
   "execution_count": 7,
   "metadata": {},
   "outputs": [
    {
     "name": "stdout",
     "output_type": "stream",
     "text": [
      "[1749, 786]\n",
      "[0.03333333333333333, 0.0, -125.00416722008521, 0.0, -0.03333333333333333, 51.19583312184854]\n"
     ]
    }
   ],
   "source": [
    "# Adjust the study area extent to match the Tmax Image Collection transform\n",
    "\n",
    "# export_cs = 0.008333333333333333333333  # ~800m\n",
    "# export_cs = 0.016666666666666666666666  # ~1600m\n",
    "export_cs = 0.033333333333333333333333  # ~3200m\n",
    "export_crs = 'EPSG:4326'\n",
    "\n",
    "# Compute clipped Tmax grid (this is a disaster of code)\n",
    "export_xy = ee.Array(export_geom.bounds(1, export_crs).coordinates().get(0)).transpose().toList();\n",
    "export_xmin = ee.Number(ee.List(export_xy.get(0)).reduce(ee.Reducer.min()));\n",
    "export_ymin = ee.Number(ee.List(export_xy.get(1)).reduce(ee.Reducer.min()));\n",
    "export_xmax = ee.Number(ee.List(export_xy.get(0)).reduce(ee.Reducer.max()));\n",
    "export_ymax = ee.Number(ee.List(export_xy.get(1)).reduce(ee.Reducer.max()));\n",
    "# Snap to Tmax grid\n",
    "export_xmin = export_xmin.subtract(tmax_extent[0]).divide(export_cs).floor().multiply(export_cs).add(tmax_extent[0]);\n",
    "export_ymin = export_ymin.subtract(tmax_extent[3]).divide(export_cs).floor().multiply(export_cs).add(tmax_extent[3]);\n",
    "export_xmax = export_xmax.subtract(tmax_extent[0]).divide(export_cs).ceil().multiply(export_cs).add(tmax_extent[0]);\n",
    "export_ymax = export_ymax.subtract(tmax_extent[3]).divide(export_cs).ceil().multiply(export_cs).add(tmax_extent[3]);\n",
    "#  Limit to Tmax grid\n",
    "export_xmin = export_xmin.max(tmax_extent[0]).min(tmax_extent[2]);\n",
    "export_ymin = export_ymin.max(tmax_extent[1]).min(tmax_extent[3]);\n",
    "export_xmax = export_xmax.min(tmax_extent[0]).max(tmax_extent[2]);\n",
    "export_ymax = export_ymax.min(tmax_extent[1]).max(tmax_extent[3]);\n",
    "\n",
    "export_extent = ee.List([export_xmin, export_ymin, export_xmax, export_ymax]);\n",
    "export_geo = ee.List([export_cs, 0.0, export_xmin, 0.0, -export_cs, export_ymax]).getInfo();\n",
    "export_shape = ee.List([\n",
    "  export_xmax.subtract(export_xmin).abs().divide(export_cs).int(),\n",
    "  export_ymax.subtract(export_ymin).abs().divide(export_cs).int()]).getInfo();\n",
    "print(export_shape);\n",
    "print(export_geo);"
   ]
  },
  {
   "cell_type": "markdown",
   "metadata": {},
   "source": [
    "#### Get Current Task and Asset Lists"
   ]
  },
  {
   "cell_type": "code",
   "execution_count": 8,
   "metadata": {},
   "outputs": [
    {
     "name": "stderr",
     "output_type": "stream",
     "text": [
      "\n",
      "Active Tasks\n",
      "  None\n",
      "  Tasks: 0\n"
     ]
    }
   ],
   "source": [
    "tasks = utils.get_ee_tasks()\n",
    "if logging.getLogger().getEffectiveLevel() == logging.DEBUG:\n",
    "    logging.debug('  Tasks: {}'.format(len(tasks)))"
   ]
  },
  {
   "cell_type": "code",
   "execution_count": 9,
   "metadata": {},
   "outputs": [
    {
     "name": "stderr",
     "output_type": "stream",
     "text": [
      "Displaying first 10 images in collection\n",
      "['projects/usgs-ssebop/tcorr_image/topowx_median_v0/20170716', 'projects/usgs-ssebop/tcorr_image/topowx_median_v0/20170717', 'projects/usgs-ssebop/tcorr_image/topowx_median_v0/20170718']\n"
     ]
    }
   ],
   "source": [
    "asset_list = utils.get_ee_assets(tcorr_img_coll_id, shell_flag=True)\n",
    "logging.debug('Displaying first 10 images in collection')\n",
    "logging.debug(asset_list[:10])"
   ]
  },
  {
   "cell_type": "markdown",
   "metadata": {},
   "source": [
    "#### Export the Tcorr Image for each date"
   ]
  },
  {
   "cell_type": "code",
   "execution_count": 10,
   "metadata": {},
   "outputs": [
    {
     "name": "stderr",
     "output_type": "stream",
     "text": [
      "\n",
      "2017-07-01\n",
      "  Task ID: tcorr_image_topowx_median_v0_20170701\n",
      "  Asset ID: projects/usgs-ssebop/tcorr_image/topowx_median_v0/20170701\n",
      "\n",
      "2017-07-02\n",
      "  Task ID: tcorr_image_topowx_median_v0_20170702\n",
      "  Asset ID: projects/usgs-ssebop/tcorr_image/topowx_median_v0/20170702\n",
      "\n",
      "2017-07-03\n",
      "  Task ID: tcorr_image_topowx_median_v0_20170703\n",
      "  Asset ID: projects/usgs-ssebop/tcorr_image/topowx_median_v0/20170703\n",
      "\n",
      "2017-07-04\n",
      "  Task ID: tcorr_image_topowx_median_v0_20170704\n",
      "  Asset ID: projects/usgs-ssebop/tcorr_image/topowx_median_v0/20170704\n",
      "\n",
      "2017-07-05\n",
      "  Task ID: tcorr_image_topowx_median_v0_20170705\n",
      "  Asset ID: projects/usgs-ssebop/tcorr_image/topowx_median_v0/20170705\n",
      "\n",
      "2017-07-06\n",
      "  Task ID: tcorr_image_topowx_median_v0_20170706\n",
      "  Asset ID: projects/usgs-ssebop/tcorr_image/topowx_median_v0/20170706\n",
      "\n",
      "2017-07-07\n",
      "  Task ID: tcorr_image_topowx_median_v0_20170707\n",
      "  Asset ID: projects/usgs-ssebop/tcorr_image/topowx_median_v0/20170707\n",
      "\n",
      "2017-07-08\n",
      "  Task ID: tcorr_image_topowx_median_v0_20170708\n",
      "  Asset ID: projects/usgs-ssebop/tcorr_image/topowx_median_v0/20170708\n",
      "\n",
      "2017-07-09\n",
      "  Task ID: tcorr_image_topowx_median_v0_20170709\n",
      "  Asset ID: projects/usgs-ssebop/tcorr_image/topowx_median_v0/20170709\n",
      "\n",
      "2017-07-10\n",
      "  Task ID: tcorr_image_topowx_median_v0_20170710\n",
      "  Asset ID: projects/usgs-ssebop/tcorr_image/topowx_median_v0/20170710\n",
      "\n",
      "2017-07-11\n",
      "  Task ID: tcorr_image_topowx_median_v0_20170711\n",
      "  Asset ID: projects/usgs-ssebop/tcorr_image/topowx_median_v0/20170711\n",
      "\n",
      "2017-07-12\n",
      "  Task ID: tcorr_image_topowx_median_v0_20170712\n",
      "  Asset ID: projects/usgs-ssebop/tcorr_image/topowx_median_v0/20170712\n",
      "\n",
      "2017-07-13\n",
      "  Task ID: tcorr_image_topowx_median_v0_20170713\n",
      "  Asset ID: projects/usgs-ssebop/tcorr_image/topowx_median_v0/20170713\n",
      "\n",
      "2017-07-14\n",
      "  Task ID: tcorr_image_topowx_median_v0_20170714\n",
      "  Asset ID: projects/usgs-ssebop/tcorr_image/topowx_median_v0/20170714\n",
      "\n",
      "2017-07-15\n",
      "  Task ID: tcorr_image_topowx_median_v0_20170715\n",
      "  Asset ID: projects/usgs-ssebop/tcorr_image/topowx_median_v0/20170715\n",
      "\n",
      "2017-07-16\n",
      "  Task ID: tcorr_image_topowx_median_v0_20170716\n",
      "  Asset ID: projects/usgs-ssebop/tcorr_image/topowx_median_v0/20170716\n",
      "    Asset already exists, skipping\n",
      "\n",
      "2017-07-17\n",
      "  Task ID: tcorr_image_topowx_median_v0_20170717\n",
      "  Asset ID: projects/usgs-ssebop/tcorr_image/topowx_median_v0/20170717\n",
      "    Asset already exists, skipping\n",
      "\n",
      "2017-07-18\n",
      "  Task ID: tcorr_image_topowx_median_v0_20170718\n",
      "  Asset ID: projects/usgs-ssebop/tcorr_image/topowx_median_v0/20170718\n",
      "    Asset already exists, skipping\n",
      "\n",
      "2017-07-19\n",
      "  Task ID: tcorr_image_topowx_median_v0_20170719\n",
      "  Asset ID: projects/usgs-ssebop/tcorr_image/topowx_median_v0/20170719\n",
      "\n",
      "2017-07-20\n",
      "  Task ID: tcorr_image_topowx_median_v0_20170720\n",
      "  Asset ID: projects/usgs-ssebop/tcorr_image/topowx_median_v0/20170720\n",
      "\n",
      "2017-07-21\n",
      "  Task ID: tcorr_image_topowx_median_v0_20170721\n",
      "  Asset ID: projects/usgs-ssebop/tcorr_image/topowx_median_v0/20170721\n",
      "\n",
      "2017-07-22\n",
      "  Task ID: tcorr_image_topowx_median_v0_20170722\n",
      "  Asset ID: projects/usgs-ssebop/tcorr_image/topowx_median_v0/20170722\n",
      "\n",
      "2017-07-23\n",
      "  Task ID: tcorr_image_topowx_median_v0_20170723\n",
      "  Asset ID: projects/usgs-ssebop/tcorr_image/topowx_median_v0/20170723\n",
      "\n",
      "2017-07-24\n",
      "  Task ID: tcorr_image_topowx_median_v0_20170724\n",
      "  Asset ID: projects/usgs-ssebop/tcorr_image/topowx_median_v0/20170724\n",
      "\n",
      "2017-07-25\n",
      "  Task ID: tcorr_image_topowx_median_v0_20170725\n",
      "  Asset ID: projects/usgs-ssebop/tcorr_image/topowx_median_v0/20170725\n",
      "\n",
      "2017-07-26\n",
      "  Task ID: tcorr_image_topowx_median_v0_20170726\n",
      "  Asset ID: projects/usgs-ssebop/tcorr_image/topowx_median_v0/20170726\n",
      "\n",
      "2017-07-27\n",
      "  Task ID: tcorr_image_topowx_median_v0_20170727\n",
      "  Asset ID: projects/usgs-ssebop/tcorr_image/topowx_median_v0/20170727\n",
      "\n",
      "2017-07-28\n",
      "  Task ID: tcorr_image_topowx_median_v0_20170728\n",
      "  Asset ID: projects/usgs-ssebop/tcorr_image/topowx_median_v0/20170728\n",
      "\n",
      "2017-07-29\n",
      "  Task ID: tcorr_image_topowx_median_v0_20170729\n",
      "  Asset ID: projects/usgs-ssebop/tcorr_image/topowx_median_v0/20170729\n",
      "\n",
      "2017-07-30\n",
      "  Task ID: tcorr_image_topowx_median_v0_20170730\n",
      "  Asset ID: projects/usgs-ssebop/tcorr_image/topowx_median_v0/20170730\n",
      "\n",
      "2017-07-31\n",
      "  Task ID: tcorr_image_topowx_median_v0_20170731\n",
      "  Asset ID: projects/usgs-ssebop/tcorr_image/topowx_median_v0/20170731\n"
     ]
    }
   ],
   "source": [
    "start_dt = datetime.datetime.strptime(start_date, '%Y-%m-%d')\n",
    "end_dt = datetime.datetime.strptime(end_date, '%Y-%m-%d')\n",
    "\n",
    "for export_dt in utils.date_range(start_dt, end_dt, days=1, skip_leap_days=False):   \n",
    "    logging.info('\\n{}'.format(export_dt.strftime('%Y-%m-%d')))\n",
    "    \n",
    "    task_id = 'tcorr_image_{}_{}'.format(tcorr_img_name, export_dt.strftime('%Y%m%d'))\n",
    "    asset_id = '{}/{}'.format(tcorr_img_coll_id, export_dt.strftime('%Y%m%d'))\n",
    "    logging.debug('  Task ID: {}'.format(task_id))\n",
    "    logging.debug('  Asset ID: {}'.format(asset_id))\n",
    "    \n",
    "    if overwrite_flag:\n",
    "        if export_id in tasks.keys():\n",
    "            logging.debug('  Task already submitted, cancelling')\n",
    "            ee.data.cancelTask(tasks[task_id])\n",
    "        # This is intentionally not an \"elif\" so that a task can be\n",
    "        # cancelled and an existing image/file/asset can be removed\n",
    "        if export_path in asset_list:\n",
    "            logging.debug('  Asset already exists, removing')\n",
    "            ee.data.deleteAsset(asset_id)\n",
    "            # subprocess.call(['earthengine', 'rm', export_path])\n",
    "    else:\n",
    "        if task_id in tasks.keys():\n",
    "            logging.debug('  Task already submitted, skipping')\n",
    "            continue\n",
    "        elif asset_id in asset_list:\n",
    "            logging.debug('  Asset already exists, skipping')\n",
    "            continue\n",
    "\n",
    "    # Build and merge the Landsat collections\n",
    "    l8_coll = ee.ImageCollection('LANDSAT/LC08/C01/T1_RT_TOA')\\\n",
    "        .filterDate(export_dt, export_dt + datetime.timedelta(days=1))\\\n",
    "        .filterBounds(tmax_img.geometry())\\\n",
    "        .filterBounds(export_geom)\n",
    "    l7_coll = ee.ImageCollection('LANDSAT/LE07/C01/T1_RT_TOA')\\\n",
    "        .filterDate(export_dt, export_dt + datetime.timedelta(days=1))\\\n",
    "        .filterBounds(tmax_img.geometry())\\\n",
    "        .filterBounds(export_geom)\n",
    "    landsat_coll = l8_coll.merge(l7_coll)\n",
    "    # l5_coll = ee.ImageCollection('LANDSAT/LT05/C01/T1_TOA')\\\n",
    "    #     .filterDate(export_dt, export_dt + datetime.timedelta(days=1))\\\n",
    "    #     .filterBounds(tmax_image.geometry())\\\n",
    "    #     .filterBounds(export_geom)\n",
    "    # landsat_coll = l8_coll.merge(l7_coll).merge(l5_coll)\n",
    "\n",
    "    # Join the Tcorr feature collection to the Landsat image collection\n",
    "    join_coll = ee.Join.saveFirst(matchKey='tcorr') \\\n",
    "        .apply(landsat_coll, \n",
    "               ee.FeatureCollection(tcorr_ftr_coll_id), \n",
    "               ee.Filter.stringEndsWith(leftField='system:index', \n",
    "                                        rightField='SCENE_ID'))\n",
    "\n",
    "    # Build the Tcorr image from Tcorr features\n",
    "    def tcorr_image_func(landsat_img):\n",
    "        tcorr_ftr = ee.Feature(landsat_img.get('tcorr'))\n",
    "        return tmax_img.select([0], ['tcorr'])\\\n",
    "            .clip(landsat_img.geometry())\\\n",
    "            .multiply(0).add(ee.Number(tcorr_ftr.get('TCORR')))\\\n",
    "            .copyProperties(landsat_img, ['system:time_start', 'SCENE_ID'])\n",
    "    tcorr_coll = ee.ImageCollection(join_coll.map(tcorr_image_func))\n",
    "    tcorr_img = tcorr_coll.mean()\\\n",
    "        .setMulti({\n",
    "            'system:time_start': utils.millis(export_dt),\n",
    "            'SCENE_ID_LIST':  ee.List(ee.Dictionary(tcorr_coll.aggregate_histogram('system:index')).keys()),\n",
    "            'SSEBOP_VER': ssebop.__version__,\n",
    "            'TMAX_SOURCE': tmax_name.upper(),\n",
    "            'TMAX_VERSION': tmax_version,\n",
    "            'EXPORTDATE': datetime.datetime.today().strftime('%Y-%m-%d'),\n",
    "        })\n",
    "\n",
    "    # Image(url=ee.Image(tcorr_img).getThumbURL({\n",
    "    #     'min': 0.975, 'max': 0.995, 'region': export_region,\n",
    "    #     'palette': ['#EFE7E1', '#003300']}))\n",
    "    # # embed=True, format='png'\n",
    "\n",
    "    task = ee.batch.Export.image.toAsset(\n",
    "        image=ee.Image(tcorr_img),\n",
    "        description=task_id,\n",
    "        assetId=asset_id,\n",
    "        crs=export_crs,\n",
    "        crsTransform='[' + ','.join(list(map(str, export_geo))) + ']',\n",
    "        dimensions='{0}x{1}'.format(*export_shape),\n",
    "        # scale=0.04,\n",
    "    )\n",
    "    task.start()"
   ]
  },
  {
   "cell_type": "code",
   "execution_count": null,
   "metadata": {},
   "outputs": [],
   "source": []
  },
  {
   "cell_type": "code",
   "execution_count": null,
   "metadata": {},
   "outputs": [],
   "source": []
  }
 ],
 "metadata": {
  "kernelspec": {
   "display_name": "Python 3",
   "language": "python",
   "name": "python3"
  },
  "language_info": {
   "codemirror_mode": {
    "name": "ipython",
    "version": 3
   },
   "file_extension": ".py",
   "mimetype": "text/x-python",
   "name": "python",
   "nbconvert_exporter": "python",
   "pygments_lexer": "ipython3",
   "version": "3.6.6"
  }
 },
 "nbformat": 4,
 "nbformat_minor": 2
}
