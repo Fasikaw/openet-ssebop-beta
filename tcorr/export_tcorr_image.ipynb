{
 "cells": [
  {
   "cell_type": "code",
   "execution_count": 1,
   "metadata": {},
   "outputs": [],
   "source": [
    "import datetime\n",
    "import pprint\n",
    "\n",
    "import ee\n",
    "from IPython.display import Image\n",
    "\n",
    "import openet.ssebop as ssebop\n",
    "import utils\n",
    "\n",
    "ee.Initialize()"
   ]
  },
  {
   "cell_type": "code",
   "execution_count": 2,
   "metadata": {},
   "outputs": [],
   "source": [
    "export_date = '2017-07-16'\n",
    "export_dt = datetime.datetime.strptime(export_date, '%Y-%m-%d')"
   ]
  },
  {
   "cell_type": "markdown",
   "metadata": {},
   "source": [
    "#### Tcorr Output Image Collection"
   ]
  },
  {
   "cell_type": "code",
   "execution_count": 3,
   "metadata": {},
   "outputs": [],
   "source": [
    "tcorr_img_name = 'topowx_median_v0'\n",
    "tcorr_img_coll_id = 'projects/usgs-ssebop/tcorr_image/{}'.format(tcorr_img_name)\n",
    "tcorr_img_coll = ee.ImageCollection(tcorr_img_coll_id);"
   ]
  },
  {
   "cell_type": "markdown",
   "metadata": {},
   "source": [
    "#### Study Area"
   ]
  },
  {
   "cell_type": "code",
   "execution_count": 4,
   "metadata": {},
   "outputs": [
    {
     "name": "stdout",
     "output_type": "stream",
     "text": [
      "[[-124.0, 35.0], [-119.0, 35.0], [-119.0, 42.02713133386921], [-124.0, 42.02713133386921]]\n"
     ]
    }
   ],
   "source": [
    "export_geom = ee.Geometry.Rectangle(-124, 35, -119, 42)\n",
    "# export_geom = ee.Geometry.Rectangle(-125, 25, -65, 50)\n",
    "export_crs = 'EPSG:4326'\n",
    "export_region = export_geom.bounds(1, export_crs).coordinates().getInfo()[0][:-1]\n",
    "print(export_region)"
   ]
  },
  {
   "cell_type": "markdown",
   "metadata": {},
   "source": [
    "#### Tmax Collection"
   ]
  },
  {
   "cell_type": "code",
   "execution_count": 5,
   "metadata": {},
   "outputs": [
    {
     "data": {
      "text/html": [
       "<img src=\"https://earthengine.googleapis.com/api/thumb?thumbid=3b7f5f861250e0d4b5651c51776fc41b&token=3c849d70cc8da65a07d6babeb9fc0bad\"/>"
      ],
      "text/plain": [
       "<IPython.core.display.Image object>"
      ]
     },
     "execution_count": 5,
     "metadata": {},
     "output_type": "execute_result"
    }
   ],
   "source": [
    "tmax_name = 'topowx_median_v0'\n",
    "tmax_version = 'median_v0'\n",
    "tmax_coll_id = 'projects/usgs-ssebop/tmax/{}'.format(tmax_name)\n",
    "\n",
    "tmax_coll = ee.ImageCollection(tmax_coll_id)\n",
    "tmax_img = ee.Image(tmax_coll.first()).set('TMAX_VERSION', tmax_version)\n",
    "\n",
    "# print(ee.Image(tmax_median_coll.first()).projection().getInfo()['transform'])\n",
    "# print(ee.Image(tmax_median_coll.first()).projection().getInfo()['crs'])\n",
    "# print(ee.Image(tmax_median_coll.first()).getInfo()['bands'][0]['dimensions'])\n",
    "tmax_geo = [0.00833333329998709, 0.0, -125.00416722008521, 0.0, -0.00833333329998709, 51.19583312184854]\n",
    "tmax_crs = 'EPSG:4326'\n",
    "tmax_shape = [7000, 3250]\n",
    "tmax_extent = [tmax_geo[2], tmax_geo[5] + tmax_shape[1] * tmax_geo[4], \n",
    "               tmax_geo[2] + tmax_shape[0] * tmax_geo[0], tmax_geo[5]]\n",
    "\n",
    "Image(url=tmax_img.getThumbURL({'min': 270, 'max': 330, 'region': export_region}))\n",
    "# embed=True, format='png'"
   ]
  },
  {
   "cell_type": "code",
   "execution_count": 6,
   "metadata": {},
   "outputs": [],
   "source": [
    "#### Export Extent, Shape, Geo"
   ]
  },
  {
   "cell_type": "code",
   "execution_count": 7,
   "metadata": {},
   "outputs": [
    {
     "name": "stdout",
     "output_type": "stream",
     "text": [
      "[1719, 486]\n",
      "[0.03333333333333333, 0.0, -124.00416722008521, 0.0, -0.03333333333333333, 51.19583312184854]\n"
     ]
    }
   ],
   "source": [
    "# export_cs = 0.008333333333333333333333  # ~800m\n",
    "# export_cs = 0.016666666666666666666666  # ~1600m\n",
    "export_cs = 0.033333333333333333333333  # ~3200m\n",
    "export_crs = 'EPSG:4326'\n",
    "\n",
    "# Compute clipped Tmax grid (this is a disaster of code)\n",
    "export_xy = ee.Array(export_geom.bounds(1, export_crs).coordinates().get(0)).transpose().toList();\n",
    "export_xmin = ee.Number(ee.List(export_xy.get(0)).reduce(ee.Reducer.min()));\n",
    "export_ymin = ee.Number(ee.List(export_xy.get(1)).reduce(ee.Reducer.min()));\n",
    "export_xmax = ee.Number(ee.List(export_xy.get(0)).reduce(ee.Reducer.max()));\n",
    "export_ymax = ee.Number(ee.List(export_xy.get(1)).reduce(ee.Reducer.max()));\n",
    "# Snap to Tmax grid\n",
    "export_xmin = export_xmin.subtract(tmax_extent[0]).divide(export_cs).floor().multiply(export_cs).add(tmax_extent[0]);\n",
    "export_ymin = export_ymin.subtract(tmax_extent[3]).divide(export_cs).floor().multiply(export_cs).add(tmax_extent[3]);\n",
    "export_xmax = export_xmax.subtract(tmax_extent[0]).divide(export_cs).ceil().multiply(export_cs).add(tmax_extent[0]);\n",
    "export_ymax = export_ymax.subtract(tmax_extent[3]).divide(export_cs).ceil().multiply(export_cs).add(tmax_extent[3]);\n",
    "#  Limit to Tmax grid\n",
    "export_xmin = export_xmin.max(tmax_extent[0]).min(tmax_extent[2]);\n",
    "export_ymin = export_ymin.max(tmax_extent[1]).min(tmax_extent[3]);\n",
    "export_xmax = export_xmax.min(tmax_extent[0]).max(tmax_extent[2]);\n",
    "export_ymax = export_ymax.min(tmax_extent[1]).max(tmax_extent[3]);\n",
    "\n",
    "export_extent = ee.List([export_xmin, export_ymin, export_xmax, export_ymax]);\n",
    "export_geo = ee.List([export_cs, 0.0, export_xmin, 0.0, -export_cs, export_ymax]).getInfo();\n",
    "export_shape = ee.List([\n",
    "  export_xmax.subtract(export_xmin).abs().divide(export_cs).int(),\n",
    "  export_ymax.subtract(export_ymin).abs().divide(export_cs).int()]).getInfo();\n",
    "print(export_shape);\n",
    "print(export_geo);"
   ]
  },
  {
   "cell_type": "markdown",
   "metadata": {},
   "source": [
    "#### Landsat Collection"
   ]
  },
  {
   "cell_type": "code",
   "execution_count": 8,
   "metadata": {},
   "outputs": [
    {
     "data": {
      "text/html": [
       "<img src=\"https://earthengine.googleapis.com/api/thumb?thumbid=dd5b0267fead9f56b706f90573cb7ad6&token=620cab3639e21480e29646b09df0e58f\"/>"
      ],
      "text/plain": [
       "<IPython.core.display.Image object>"
      ]
     },
     "execution_count": 8,
     "metadata": {},
     "output_type": "execute_result"
    }
   ],
   "source": [
    "landsat_coll = ee.ImageCollection('LANDSAT/LC08/C01/T1_RT_TOA')\\\n",
    "    .filterDate(export_dt, export_dt + datetime.timedelta(days=1))\\\n",
    "    .filterBounds(tmax_img.geometry())\\\n",
    "    .filterBounds(export_geom)\n",
    "# pprint.pprint(landsat_coll.aggregate_histogram('system:index').getInfo())\n",
    "\n",
    "Image(url=landsat_coll.median().select([3, 2, 1])\\\n",
    "          .getThumbURL({'min': 0.0, 'max': 0.3, 'region': export_region}),\n",
    "      # embed=True, format='png'\n",
    "     )"
   ]
  },
  {
   "cell_type": "code",
   "execution_count": null,
   "metadata": {},
   "outputs": [],
   "source": [
    "def compute_tcorr(image):\n",
    "    t_stats = ssebop.Image.from_landsat_c1_toa(ee.Image(image)).tcorr_stats\n",
    "    tcorr = ee.Number(t_stats.get('tcorr_p5'))\n",
    "    count = ee.Number(t_stats.get('tcorr_count'))\n",
    "    # return image.reduce(ee.Reducer.).multiply(0).add(tcorr)\n",
    "    return tmax_img.select([0], ['tcorr'])\\\n",
    "        .clip(image.geometry())\\\n",
    "        .multiply(0).add(tcorr)\\\n",
    "        .setMulti({\n",
    "            'system:time_start': image.get('system:time_start'),\n",
    "            'SCENE_ID': image.get('system:index'),\n",
    "            # 'WRS2_TILE': image.get('system:index'),\n",
    "            'TCORR_P5': tcorr, \n",
    "            'TCORR_COUNT': count,\n",
    "            'SSEBOP_VER': ssebop.__version__,\n",
    "            'TMAX_SRC': tmax_img.get('TMAX_SOURCE'),\n",
    "            'TMAX_VER': tmax_img.get('TMAX_VERSION'),\n",
    "            'EXPORTDATE': datetime.datetime.today().strftime('%Y-%m-%d'),\n",
    "        })\n",
    "    # return ee.Feature(None, {'tcorr': tcorr, 'count': count})\n",
    "\n",
    "tcorr_coll = ee.ImageCollection(landsat_coll.map(compute_tcorr))\n",
    "tcorr_img = tcorr_coll.mean()\\\n",
    "    .setMulti({\n",
    "        'system:time_start': utils.millis(export_dt),\n",
    "        'SCENE_ID_LIST': ee.List(ee.Dictionary(tcorr_coll.aggregate_histogram('system:index')).keys()),\n",
    "        'SSEBOP_VERSION': ssebop.__version__,\n",
    "        'TMAX_SOURCE': tmax_name.upper(),\n",
    "        'TMAX_VERSION': tmax_version,\n",
    "        'EXPORTDATE': datetime.datetime.today().strftime('%Y-%m-%d'),\n",
    "    })\n",
    "\n",
    "Image(url=ee.Image(tcorr_img).getThumbURL({\n",
    "    'min': 0.975, 'max': 0.995, 'region': export_region,\n",
    "    'palette': ['#EFE7E1', '#003300']}))\n",
    "# embed=True, format='png'"
   ]
  },
  {
   "cell_type": "code",
   "execution_count": null,
   "metadata": {},
   "outputs": [],
   "source": [
    "task_id = 'tcorr_image_{}_{}'.format(tcorr_img_name, export_dt.strftime('%Y%m%d'))\n",
    "asset_id = '{}/{}'.format(tcorr_img_coll_id, export_dt.strftime('%Y%m%d'))\n",
    "print(asset_id)\n",
    "\n",
    "task = ee.batch.Export.image.toAsset(\n",
    "    image=tcorr_img,\n",
    "    description=task_id,\n",
    "    assetId=asset_id,\n",
    "    crs=export_crs,\n",
    "    crsTransform='[' + ','.join(list(map(str, export_geo))) + ']',\n",
    "    dimensions='{0}x{1}'.format(*export_shape),\n",
    "    # scale=0.04,\n",
    ")\n",
    "# task.start()\n",
    "# time.sleep(1)\n",
    "# print(task.status())"
   ]
  },
  {
   "cell_type": "code",
   "execution_count": null,
   "metadata": {},
   "outputs": [],
   "source": []
  }
 ],
 "metadata": {
  "kernelspec": {
   "display_name": "Python 3",
   "language": "python",
   "name": "python3"
  },
  "language_info": {
   "codemirror_mode": {
    "name": "ipython",
    "version": 3
   },
   "file_extension": ".py",
   "mimetype": "text/x-python",
   "name": "python",
   "nbconvert_exporter": "python",
   "pygments_lexer": "ipython3",
   "version": "3.6.6"
  }
 },
 "nbformat": 4,
 "nbformat_minor": 2
}
